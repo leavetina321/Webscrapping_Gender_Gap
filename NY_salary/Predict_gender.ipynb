{
 "cells": [
  {
   "cell_type": "code",
   "execution_count": null,
   "metadata": {},
   "outputs": [],
   "source": [
    "import pandas as pd\n",
    "from genderize import Genderize\n",
    "import numpy as np"
   ]
  },
  {
   "cell_type": "code",
   "execution_count": null,
   "metadata": {},
   "outputs": [],
   "source": [
    "df=pd.read_csv('salary2.csv',names= [\"name\", \"Agency\", \"Total Pay\", \"Title\",\"Rate_of_Pay\",\"Year\",\"Basis\",\"Branch\"])\n"
   ]
  },
  {
   "cell_type": "code",
   "execution_count": null,
   "metadata": {},
   "outputs": [],
   "source": [
    "df['firstname']=df['name'].apply(lambda x: x.split(',')[0])\n",
    "df['lastname']=df['name'].apply(lambda x:x.split(',')[1])\n",
    "df['lastname']= df['lastname'].apply(lambda x: x.split(' ')[1])"
   ]
  },
  {
   "cell_type": "code",
   "execution_count": null,
   "metadata": {},
   "outputs": [],
   "source": [
    "from genderize import Genderize\n",
    "genderize = Genderize(\n",
    "    user_agent='GenderizeDocs/0.0',\n",
    "    api_key='773665be0b2c1664edfec8fe3d9c8376',\n",
    "    timeout=5.0)\n",
    "df_dic=genderize.get(df['lastname'])\n",
    "df_lastname=pd.DataFrame(df_dic)\n",
    "df_lastname=df_lastname.rename(columns={'name':'lastname'})"
   ]
  },
  {
   "cell_type": "code",
   "execution_count": null,
   "metadata": {},
   "outputs": [],
   "source": [
    "df_lastname.to_csv('gender.csv',index=False)"
   ]
  }
 ],
 "metadata": {
  "kernelspec": {
   "display_name": "Python 3",
   "language": "python",
   "name": "python3"
  },
  "language_info": {
   "codemirror_mode": {
    "name": "ipython",
    "version": 3
   },
   "file_extension": ".py",
   "mimetype": "text/x-python",
   "name": "python",
   "nbconvert_exporter": "python",
   "pygments_lexer": "ipython3",
   "version": "3.7.1"
  }
 },
 "nbformat": 4,
 "nbformat_minor": 2
}
